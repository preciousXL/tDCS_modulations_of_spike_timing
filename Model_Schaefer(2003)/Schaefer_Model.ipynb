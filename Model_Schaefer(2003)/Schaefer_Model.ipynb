{
 "cells": [
  {
   "cell_type": "code",
   "execution_count": 1,
   "id": "c57bf8a5-4772-4202-9bf7-1ccf2e162759",
   "metadata": {},
   "outputs": [],
   "source": [
    "import numpy as np\n",
    "import neuron\n",
    "from neuron import h\n",
    "import os, sys\n",
    "import matplotlib.pyplot as plt\n",
    "import matplotlib as mpl\n",
    "from matplotlib.collections import PolyCollection\n",
    "import subprocess\n",
    "import pickle, glob\n",
    "from scipy.signal import chirp \n",
    "from scipy.fftpack import fft\n",
    "from scipy.optimize import leastsq, curve_fit\n",
    "import re\n",
    "import scipy.signal\n",
    "from scipy.signal import find_peaks\n",
    "from operator import itemgetter\n",
    "import os, subprocess\n",
    "import numba\n",
    "from sklearn.linear_model import LinearRegression\n",
    "from sklearn.metrics import mean_squared_error , r2_score\n",
    "\n",
    "def svg_to_emf(svg_figpath):\n",
    "    if True:\n",
    "        cwd_path = os.getcwd()\n",
    "        svg_figpath = os.path.join(cwd_path, svg_figpath)\n",
    "        print(svg_figpath)\n",
    "    inkscape_path = 'D:\\\\Pycharm\\\\Inkscape\\\\bin\\\\inkscape.exe' \n",
    "    if svg_figpath is not None:\n",
    "        path, svgfigname = os.path.split(svg_figpath)\n",
    "        figname, figform = os.path.splitext(svgfigname)\n",
    "        emf_figpath = os.path.join(path, figname + '.emf')\n",
    "        subprocess.call(\"{} {} -T -o {}\".format(inkscape_path, svg_figpath, emf_figpath), shell=True)\n",
    "        # os.remove(svg_figpath)\n",
    "\n",
    "'''generate EPSP-like synaptic current'''\n",
    "def generate_epsp_like_current(taur=0.5, taud=5, imax=0.5, onset=320, dt=0.025, tstop=600):\n",
    "    iepsp = np.zeros(int(tstop/dt))\n",
    "    tpeak = taur * taud * np.log(taur/taud) / (taur-taud)\n",
    "    adjust = 1/( (1 - myexp(-tpeak/taur)) - (1 - myexp(-tpeak/taud)) )\n",
    "    amp = adjust * imax\n",
    "    for i, t in enumerate(np.arange(0, tstop, dt)):\n",
    "        if t < onset:\n",
    "            iepsp[i] = 0.\n",
    "        else:\n",
    "            a0 = 1 - myexp(-(t-onset)/taur)\n",
    "            a1 = 1 - myexp(-(t-onset)/taud)\n",
    "            iepsp[i] = -amp * (a0 - a1)\n",
    "    return iepsp\n",
    "\n",
    "def myexp(x):\n",
    "    if x < -100:\n",
    "        return 0\n",
    "    else:\n",
    "        return np.exp(x)\n",
    "\n",
    "def generateOUCurrent(miu=0., sigma=0., tvar=np.arange(0, 10, 0.1)):\n",
    "    tau = 3\n",
    "    dt = tvar[1] - tvar[0]\n",
    "    Istim = np.zeros_like(tvar)\n",
    "    Istim[0] = miu\n",
    "    for i in range(len(tvar)-1):\n",
    "        Istim[i+1] = Istim[i] + dt*(miu - Istim[i])/tau + sigma*np.random.randn()*np.sqrt(2*dt/tau)\n",
    "    return Istim\n",
    "\n",
    "def calcSpikeNumberAndSpikeTime(tvar, vsoma):\n",
    "    risingBefore = np.hstack((0, vsoma[1:] - vsoma[:-1])) > 0  # v(t)-v(t-1)>0\n",
    "    fallingAfter = np.hstack((vsoma[1:] - vsoma[:-1], 0)) < 0  # v(t)-v(t+1)<0\n",
    "    localMaximum = np.logical_and(fallingAfter, risingBefore) \n",
    "    largerThanThresh = vsoma > 0. \n",
    "    binarySpikeVector = np.logical_and(localMaximum,largerThanThresh) \n",
    "    spikeInds = np.nonzero(binarySpikeVector)\n",
    "    spikeNumber = np.sum(binarySpikeVector)\n",
    "    outputSpikeTimes = tvar[spikeInds]\n",
    "    return spikeNumber, outputSpikeTimes\n",
    "\n",
    "@numba.njit\n",
    "def generatePulseCurrent(amp_pulse=0., tstart=0., tend=0., tvar=np.arange(0, 1, 0.01)):\n",
    "    index_pulse = np.logical_and(tvar >= tstart, tvar <= tend)\n",
    "    Ipulse = np.zeros_like(tvar)\n",
    "    Ipulse[index_pulse] = amp_pulse\n",
    "    return Ipulse\n",
    "    \n",
    "@numba.njit\n",
    "def isCalciumSpike(tvar, vdend, CaSpike_startVth=-30, CaSpike_endVth=-50):\n",
    "    logical_above_startVth = vdend > CaSpike_startVth\n",
    "    logical_above_endVth   = vdend > CaSpike_endVth\n",
    "    diff_logical_above_startVth = np.diff(logical_above_startVth)\n",
    "    diff_logical_above_endVth   = np.diff(logical_above_endVth)\n",
    "    bool, CaSpike_start_t, CaSpike_end_t = 0, None, None\n",
    "    if np.any(diff_logical_above_startVth):\n",
    "        bool = 1\n",
    "        CaSpike_start_t = tvar[np.where(diff_logical_above_startVth)][0]\n",
    "        CaSpike_end_t   = tvar[:-1][np.where(diff_logical_above_endVth)][-1]\n",
    "    return bool, CaSpike_start_t, CaSpike_end_t\n",
    "    \n",
    "@numba.njit\n",
    "def calcICaTime(tvar, ICa, ICaVth=-0.12):\n",
    "    index_below_ICaVth = ICa < ICaVth\n",
    "    diff_index_below_ICaVth = np.diff(index_below_ICaVth)\n",
    "    bool, ICa_start_t, ICa_end_t = 0, None, None\n",
    "    if np.any(diff_index_below_ICaVth):\n",
    "        bool        = 1\n",
    "        ICa_start_t = tvar[np.where(diff_index_below_ICaVth)][0]\n",
    "        ICa_end_t   = tvar[np.where(diff_index_below_ICaVth)][1]\n",
    "    return bool, ICa_start_t, ICa_end_t\n",
    "    \n",
    "def Sort_by_col1(paras):\n",
    "    num_paras   = len(paras)\n",
    "    xtemp       = sorted(enumerate(paras[0]), key=itemgetter(1))\n",
    "    xindex      = map(itemgetter(0), xtemp)\n",
    "    multi_piker = itemgetter(*xindex)\n",
    "    ans         = np.array([multi_piker(paras[i]) for i in range(num_paras)])\n",
    "    return ans\n",
    "\n",
    "def thresholdLinearFunction(x, b, k):\n",
    "    y = np.piecewise(x, [x<b, x>=b], [0., lambda x: k*(x-b)])\n",
    "    return y"
   ]
  },
  {
   "cell_type": "code",
   "execution_count": 2,
   "id": "6ac598bd-ff2c-43fc-ab88-6d6b7f0d339f",
   "metadata": {
    "scrolled": true
   },
   "outputs": [
    {
     "name": "stdout",
     "output_type": "stream",
     "text": [
      "\t1 \n",
      "\t1 \n",
      "\t1 \n"
     ]
    }
   ],
   "source": [
    "class L5PTcell():\n",
    "    def __init__(self):\n",
    "        self.init_parameters()\n",
    "        self.create_cell()\n",
    "        self.createSectionList()\n",
    "\n",
    "    def init_parameters(self):\n",
    "        self.diam_scale_factor = 0    \n",
    "        self.diam_plus_factor  = 2     \n",
    "        self.subsection_names  = ['soma',  'apic', 'dend', 'axon']\n",
    "        self.subsection_colors = [   'k',     'b',    'g',    'r']\n",
    "        self.eachSubsectionIndex = []  \n",
    "        self.eachSubsectionIndex.append([0, 1])\n",
    "        self.eachSubsectionIndex.append([1, 80])\n",
    "        self.eachSubsectionIndex.append([80, 130])\n",
    "        self.eachSubsectionIndex.append([130, 142])\n",
    "        self.somaAtOrigin      = False\n",
    "        self.shiftx, self.shifty, self.shiftz = 0.0, 0.0, 0.0\n",
    "        \n",
    "    def create_cell(self):\n",
    "        h.load_file('nrngui.hoc')\n",
    "        h.load_file('init_snowp.hoc')\n",
    "        h.load_file(\"steadystate_init.hoc\")\n",
    "        h.load_file(\"getes.hoc\")\n",
    "        \n",
    "    def createSectionList(self):\n",
    "        self.allSectionList    = [sec for sec in h.allsec()]\n",
    "        self.allSectionNames   = [sec.name() for sec in self.allSectionList]\n",
    "        self.totalSectionNumber= len(self.allSectionList)\n",
    "        self.somaSectionList   = self.allSectionList[self.eachSubsectionIndex[0][0]:self.eachSubsectionIndex[0][1]]\n",
    "        self.apicalSectionList = self.allSectionList[self.eachSubsectionIndex[1][0]:self.eachSubsectionIndex[1][1]]\n",
    "        self.basalSectionList  = self.allSectionList[self.eachSubsectionIndex[2][0]:self.eachSubsectionIndex[2][1]]\n",
    "        self.axonalSectionList = self.allSectionList[self.eachSubsectionIndex[3][0]:]\n",
    "        self.eachSectionSegmentNumber = np.array([sec.nseg for sec in self.allSectionList])\n",
    "        self.totalSegmentNumber = np.sum(self.eachSectionSegmentNumber)\n",
    "        self.totnsegs = self.totalSegmentNumber\n",
    "        self.eachSectionSegmentIndex = []\n",
    "        idx0, idx1 = 0, 0\n",
    "        for i in range(self.totalSectionNumber):\n",
    "            idx1 += self.eachSectionSegmentNumber[i]\n",
    "            self.eachSectionSegmentIndex.append([idx0, idx1])\n",
    "            idx0 = idx1\n",
    "            \n",
    "    def pre_calc_for_plotmorph(self, projection=('x', 'y')):\n",
    "        if not hasattr(self, 'allSectionList'):\n",
    "            self.createSectionList()\n",
    "        self.collect_geometry()\n",
    "        self.make_soma_at_origin(somaAtOrigin=self.somaAtOrigin)\n",
    "        self.morph_zips = []\n",
    "        for x, y in self.get_idx_polygons(projection=projection):\n",
    "            self.morph_zips.append(list(zip(x, y)))\n",
    "\n",
    "    def collect_geometry(self):\n",
    "        if not hasattr(self, 'x'):\n",
    "            self.x      = None\n",
    "            self.y      = None\n",
    "            self.z      = None\n",
    "            self.area   = None\n",
    "            self.d      = None\n",
    "            self.length = None\n",
    "        self.collect_geometry_neuron()\n",
    "        \n",
    "    def collect_geometry_neuron(self):\n",
    "        '''Loop over allseclist to determine area, diam, xyz-start- and endpoints, embed geometry to cell object'''\n",
    "        areavec   = np.zeros(self.totnsegs)\n",
    "        diamvec   = np.zeros(self.totnsegs)\n",
    "        lengthvec = np.zeros(self.totnsegs)\n",
    "        xstartvec = np.zeros(self.totnsegs)\n",
    "        xendvec   = np.zeros(self.totnsegs)\n",
    "        ystartvec = np.zeros(self.totnsegs)\n",
    "        yendvec   = np.zeros(self.totnsegs)\n",
    "        zstartvec = np.zeros(self.totnsegs)\n",
    "        zendvec   = np.zeros(self.totnsegs)\n",
    "        counter = 0\n",
    "        # loop over all segments\n",
    "        for sec in self.allSectionList:\n",
    "            n3d  = int(neuron.h.n3d(sec=sec))  # or int(sec.n3d())\n",
    "            nseg = sec.nseg                    # sec.n3d() > sec.nseg\n",
    "            gsen2 = 1. / 2 / nseg \n",
    "            if n3d > 0:\n",
    "                # create interpolation objects for the xyz pt3d info:\n",
    "                L, x, y, z = np.zeros(n3d), np.zeros(n3d), np.zeros(n3d), np.zeros(n3d)\n",
    "                for i in range(n3d):\n",
    "                    L[i] = neuron.h.arc3d(i, sec=sec) # return the length of the first i-th n3d()\n",
    "                    x[i] = neuron.h.x3d(i, sec=sec)\n",
    "                    y[i] = neuron.h.y3d(i, sec=sec)\n",
    "                    z[i] = neuron.h.z3d(i, sec=sec)\n",
    "                # normalize as seg.x [0, 1]\n",
    "                L /= sec.L\n",
    "                # temporary store position of segment midpoints\n",
    "                segx = np.zeros(nseg) \n",
    "                for i, seg in enumerate(sec):\n",
    "                    segx[i] = seg.x \n",
    "                # can't be >0 which may happen due to NEURON->Python float\n",
    "                # transfer:\n",
    "                segx0 = (segx - gsen2).round(decimals=6)\n",
    "                segx1 = (segx + gsen2).round(decimals=6) \n",
    "                # fill vectors with interpolated coordinates of start and end\n",
    "                # points\n",
    "                xstartvec[counter:counter + nseg] = np.interp(segx0, L, x)  \n",
    "                xendvec[counter:counter   + nseg] = np.interp(segx1, L, x)  \n",
    "                ystartvec[counter:counter + nseg] = np.interp(segx0, L, y)\n",
    "                yendvec[counter:counter   + nseg] = np.interp(segx1, L, y)\n",
    "                zstartvec[counter:counter + nseg] = np.interp(segx0, L, z)\n",
    "                zendvec[counter:counter   + nseg] = np.interp(segx1, L, z)\n",
    "                # fill in values area, diam, length\n",
    "                for seg in sec:\n",
    "                    areavec[counter]   = neuron.h.area(seg.x, sec=sec)\n",
    "                    diamvec[counter]   = seg.diam\n",
    "                    lengthvec[counter] = sec.L / nseg\n",
    "                    counter += 1\n",
    "        # set cell attributes\n",
    "        self.x = np.c_[xstartvec, xendvec]\n",
    "        self.y = np.c_[ystartvec, yendvec]\n",
    "        self.z = np.c_[zstartvec, zendvec]\n",
    "        self.area   = areavec\n",
    "        self.d      = diamvec * self.diam_scale_factor + self.diam_plus_factor\n",
    "        self.length = lengthvec\n",
    "\n",
    "    def make_soma_at_origin(self, somaAtOrigin=True):\n",
    "        if somaAtOrigin == True:\n",
    "            self.shiftx = np.mean(self.x[0])\n",
    "            self.shifty = np.mean(self.y[0])\n",
    "            self.shiftz = np.mean(self.z[0])\n",
    "            self.x = self.x - self.shiftx\n",
    "            self.y = self.y - self.shifty\n",
    "            self.z = self.z - self.shiftz\n",
    "        elif somaAtOrigin == False:\n",
    "            self.shiftx, self.shifty, self.shiftz = 0.0, 0.0, 0.0\n",
    "            \n",
    "    def get_idx_polygons(self, projection=('x', 'z')):\n",
    "        if len(projection) != 2:\n",
    "            raise ValueError(\"projection arg be a tuple like ('x', 'y')\")\n",
    "        if 'x' in projection and 'y' in projection:\n",
    "            pass\n",
    "        elif 'x' in projection and 'z' in projection:\n",
    "            pass\n",
    "        elif 'y' in projection and 'z' in projection:\n",
    "            pass\n",
    "        else:\n",
    "            mssg = \"projection must be a length 2 tuple of 'x', 'y' or 'z'!\"\n",
    "            raise ValueError(mssg)\n",
    "\n",
    "        polygons = []\n",
    "        for i in np.arange(self.totnsegs):\n",
    "            polygons.append(self.create_segment_polygon(i, projection))\n",
    "        \n",
    "        return polygons\n",
    "\n",
    "    def create_segment_polygon(self, i, projection=('x', 'z')):\n",
    "        '''Create a polygon to fill for segment i, in the plane determined by kwarg projection'''\n",
    "        x = getattr(self, projection[0])[i]\n",
    "        z = getattr(self, projection[1])[i]\n",
    "        d = self.d[i]\n",
    "        # calculate angles\n",
    "        dx = np.diff(x)\n",
    "        dz = np.diff(z)\n",
    "        theta = np.arctan2(dz, dx)[0]\n",
    "        x = np.r_[x, x[::-1]]  # x=(xstart, xend), x[::-1]=(xend, xstart) →→→ x.shape=(1, 4)\n",
    "        z = np.r_[z, z[::-1]]\n",
    "        # 1st corner:\n",
    "        x[0] -= 0.5 * d * np.sin(theta)\n",
    "        z[0] += 0.5 * d * np.cos(theta)\n",
    "        # end of section, first side\n",
    "        x[1] -= 0.5 * d * np.sin(theta)\n",
    "        z[1] += 0.5 * d * np.cos(theta)\n",
    "        # other side\n",
    "        # end of section, second side\n",
    "        x[2] += 0.5 * d * np.sin(theta)\n",
    "        z[2] -= 0.5 * d * np.cos(theta)\n",
    "        # last corner:\n",
    "        x[3] += 0.5 * d * np.sin(theta)\n",
    "        z[3] -= 0.5 * d * np.cos(theta)\n",
    "        return x, z # x.shape=y.shape=(1, 4)\n",
    "\n",
    "    def get_section_coordinate(self, sec, xin, projection=('x', 'y')):\n",
    "        n3d   = int(neuron.h.n3d(sec=sec))\n",
    "        nseg  = sec.nseg\n",
    "        gsen2 = 1. / 2 / nseg\n",
    "        if n3d > 0:\n",
    "            L, x, y, z = np.zeros(n3d), np.zeros(n3d), np.zeros(n3d), np.zeros(n3d)\n",
    "            for i in range(n3d):\n",
    "                L[i] = neuron.h.arc3d(i, sec=sec)\n",
    "                x[i] = neuron.h.x3d(i, sec=sec)\n",
    "                y[i] = neuron.h.y3d(i, sec=sec)\n",
    "                z[i] = neuron.h.z3d(i, sec=sec)\n",
    "            L /= sec.L\n",
    "            sec_x = np.interp(xin, L, x) - self.shiftx\n",
    "            sec_y = np.interp(xin, L, y) - self.shifty\n",
    "            sec_z = np.interp(xin, L, z) - self.shiftz\n",
    "            coordinate = {'x': sec_x, 'y': sec_y, 'z': sec_z}\n",
    "        return np.array([coordinate[projection[0]], coordinate[projection[1]]])\n",
    "\n",
    "    def add_recordings(self, sec, x=0.5):\n",
    "        if not hasattr(self, 'recordings'):\n",
    "            self.recordings = {}\n",
    "        if 't' not in list(self.recordings.keys()):\n",
    "            self.recordings['t'] = h.Vector().record(h._ref_t)\n",
    "        tempname = sec.name() + '(' + str(x) + ')'\n",
    "        self.recordings[tempname] = h.Vector().record(sec(x)._ref_v)\n",
    "        \n",
    "    def run_simulation_EFtest(self, Evar=0., tvar=0., dt=0.025, duration=0., theta=90, phi=90):\n",
    "        '''Simulation'''\n",
    "        h.calcesE(theta, phi)\n",
    "        h.dt = dt\n",
    "        h.tstop = duration\n",
    "        h.setstim_snowp()\n",
    "        h.stim_amp.from_python(Evar)\n",
    "        h.stim_time.from_python(tvar)\n",
    "        h.attach_stim()\n",
    "        # neuron.h.stdinit()\n",
    "        # neuron.h.cvode_active(1)\n",
    "        neuron.h.run()\n",
    "\n",
    "cell = L5PTcell()"
   ]
  },
  {
   "cell_type": "markdown",
   "id": "d7129339-6299-4e12-9a38-13ffcf159e01",
   "metadata": {},
   "source": [
    "# 1. plot cell morphology for the Schaefer model"
   ]
  },
  {
   "cell_type": "code",
   "execution_count": 3,
   "id": "bfe0b064-d480-4805-babf-8c40cab0f13c",
   "metadata": {},
   "outputs": [
    {
     "data": {
      "text/plain": [
       "Text(0, 0.5, 'y-axis (μm)')"
      ]
     },
     "execution_count": 3,
     "metadata": {},
     "output_type": "execute_result"
    },
    {
     "data": {
      "image/png": "[encoded data removed]",
      "text/plain": [
       "<Figure size 288x288 with 1 Axes>"
      ]
     },
     "metadata": {
      "needs_background": "light"
     },
     "output_type": "display_data"
    }
   ],
   "source": [
    "plot_synapse = True\n",
    "cell.somaAtOrigin = False\n",
    "cell.diam_scale_factor = 0\n",
    "cell.diam_plus_factor  = 8\n",
    "cell.pre_calc_for_plotmorph()\n",
    "\n",
    "fig = plt.figure(figsize=(4, 4))\n",
    "ax  = fig.add_subplot(111)\n",
    "for i in range(1, len(cell.subsection_names)):\n",
    "    idx0 = cell.eachSectionSegmentIndex[cell.eachSubsectionIndex[i][0]][0]\n",
    "    idx1 = cell.eachSectionSegmentIndex[cell.eachSubsectionIndex[i][-1] - 1][-1]\n",
    "    polycol = PolyCollection(list(cell.morph_zips)[idx0:idx1], edgecolors='none', facecolors=cell.subsection_colors[i])\n",
    "    ax.add_collection(polycol)\n",
    "if True:\n",
    "    xy_soma = cell.get_section_coordinate(cell.allSectionList[0], 0.5, projection=('x', 'y'))\n",
    "    ax.scatter(xy_soma[0], xy_soma[1], marker='o', s=40, color='k')\n",
    "if plot_synapse == True:\n",
    "    xy_synapse = cell.get_section_coordinate(cell.allSectionList[14], 1.0, projection=('x', 'y'))\n",
    "    ax.scatter(xy_synapse[0], xy_synapse[1], marker='s', s=40, color='r')\n",
    "    ax.arrow(x=xy_synapse[0]-100, y=xy_synapse[1]+100, dx=50, dy=-50, color='r', width=5, head_width=30, head_length=40)\n",
    "    \n",
    "ax.axis('equal')\n",
    "ax.set_xlabel('x-axis (μm)', fontsize=12)\n",
    "ax.set_ylabel('y-axis (μm)', fontsize=12)"
   ]
  },
  {
   "cell_type": "markdown",
   "id": "0ed0c695-6f10-4ba9-8578-f47e7169bc4d",
   "metadata": {},
   "source": [
    "# 2. Define synaptic input and recodings"
   ]
  },
  {
   "cell_type": "code",
   "execution_count": 4,
   "id": "bd84df20-614a-4bdf-a710-afbf08f86ccf",
   "metadata": {},
   "outputs": [
    {
     "name": "stdout",
     "output_type": "stream",
     "text": [
      "['t', 'somaA(0.5)', 'dendA1_0000000000001(1.0)', 'apicalIClamp_Iepsp', 'apicalIClamp_Isoma', 'apicalICa']\n"
     ]
    }
   ],
   "source": [
    "'''EPSP-like current at the nexus'''\n",
    "secidx = cell.allSectionNames.index('dendA1_0000000000001')\n",
    "apicalIClamp = h.IClamp(cell.allSectionList[14](1))\n",
    "apicalIClamp.delay  = 0.\n",
    "apicalIClamp.dur    = 1e9\n",
    "apicalIClamp.amp    = 0.\n",
    "'''somatic input'''\n",
    "somaIClamp = h.IClamp(cell.allSectionList[0](0.5))\n",
    "somaIClamp.delay  = 0.\n",
    "somaIClamp.dur    = 1e9\n",
    "somaIClamp.amp    = 0.\n",
    "'''define the recordings'''\n",
    "cell.add_recordings(cell.allSectionList[0], x=0.5)\n",
    "cell.add_recordings(cell.allSectionList[14], x=1.0)\n",
    "cell.recordings['apicalIClamp_Iepsp'] = h.Vector().record(apicalIClamp._ref_i)\n",
    "cell.recordings['apicalIClamp_Isoma'] = h.Vector().record(somaIClamp._ref_i)\n",
    "cell.recordings['apicalICa'] = h.Vector().record(h.dendA1_0000000000001(1)._ref_ica)\n",
    "recordingsKeysList = list(cell.recordings.keys())\n",
    "print(recordingsKeysList)"
   ]
  },
  {
   "cell_type": "code",
   "execution_count": 5,
   "id": "9cd2f9cc-1793-4b6c-9251-d3ec02fec9aa",
   "metadata": {},
   "outputs": [],
   "source": [
    "def run_simulation_at_a_given_condition(Imax=0., Tde=20.0, Vds=0., Etheta=90, DEL=510, DUR=140, dt=0.025):\n",
    "    dt       = 0.025\n",
    "    tstop    = DEL + DUR + 0\n",
    "    tvar     = np.arange(0, tstop, dt)\n",
    "    # EF waveform\n",
    "    Evar_DEL   = np.zeros_like(np.arange(0, DEL, dt))\n",
    "    Evar_DUR   = Vds + np.zeros_like(np.arange(0, DUR, dt))\n",
    "    Evar_tstop = np.zeros_like(np.arange(0, tstop - DEL - DUR, dt))\n",
    "    Evar       = np.hstack((Evar_DEL, Evar_DUR, Evar_tstop))\n",
    "    # synaptic input\n",
    "    Iepsp     = - generate_epsp_like_current(taur=0.8, taud=4, imax=Imax, onset=DEL+Tde, dt=dt, tstop=tstop)\n",
    "    tvar_hoc  = h.Vector().from_python(tvar)\n",
    "    Iepsp_hoc = h.Vector().from_python(Iepsp)\n",
    "    Iepsp_hoc.play(apicalIClamp._ref_amp, tvar_hoc, True)\n",
    "    somaIClamp.delay = 0.0\n",
    "    somaIClamp.dur   = 1e9\n",
    "    somaIClamp.amp   = 0.0\n",
    "    # run simulation \n",
    "    cell.run_simulation_EFtest(Evar=Evar, tvar=tvar, dt=dt, duration=tstop, theta=Etheta, phi=90)\n",
    "    # extract the simulation results\n",
    "    idx1  = 25\n",
    "    idx2  = int(tstop / dt)\n",
    "    t     = cell.recordings['t'].to_python()[idx1:idx2]\n",
    "    vsoma = cell.recordings['somaA(0.5)'].to_python()[idx1:idx2]\n",
    "    vdend = cell.recordings['dendA1_0000000000001(1.0)'].to_python()[idx1:idx2]\n",
    "    Id    = cell.recordings['apicalIClamp_Iepsp'].to_python()[idx1:idx2]\n",
    "    Is    = cell.recordings['apicalIClamp_Isoma'].to_python()[idx1:idx2]\n",
    "    ICa   = cell.recordings['apicalICa'].to_python()[idx1:idx2]\n",
    "    \n",
    "    t, vsoma, vdend = np.array(t), np.array(vsoma), np.array(vdend)\n",
    "    Id, Is, ICa     = np.array(Id), np.array(Is), np.array(ICa)\n",
    "    return t, vsoma, vdend, Id, Is, tvar, Evar"
   ]
  },
  {
   "cell_type": "code",
   "execution_count": 7,
   "id": "940c47f1-cf3a-4061-9828-cd45b15b47d0",
   "metadata": {},
   "outputs": [
    {
     "data": {
      "image/png": "[encoded data removed]",
      "text/plain": [
       "<Figure size 720x432 with 3 Axes>"
      ]
     },
     "metadata": {
      "needs_background": "light"
     },
     "output_type": "display_data"
    }
   ],
   "source": [
    "'''examples'''\n",
    "Imax, Tde   = 1.6, 20\n",
    "Vds, Etheta = 0, 90\n",
    "DEL, DUR    = 510, 140\n",
    "t, vsoma, vdend, Id, Is, tvar, Evar = run_simulation_at_a_given_condition(\n",
    "                                    Imax=Imax, Tde=Tde, Vds=Vds, Etheta=Etheta, DEL=DEL, DUR=DUR)\n",
    "fig, ax = plt.subplots(3, 1, figsize=(10, 6))\n",
    "ax[0].plot(t, vsoma)\n",
    "ax[0].plot(t, vdend)\n",
    "ax[1].plot(t, Is)\n",
    "ax[1].plot(t, Id)\n",
    "ax[2].plot(tvar, Evar)\n",
    "for i in range(3):\n",
    "    ax[i].set_xlim(500, DEL+DUR+10)"
   ]
  },
  {
   "cell_type": "markdown",
   "id": "f6aea641-116e-45d6-95dd-9b1bd76d49a2",
   "metadata": {},
   "source": [
    "# 3. Figure 2(b)"
   ]
  },
  {
   "cell_type": "code",
   "execution_count": 13,
   "id": "e114c206-53a6-4e82-bc25-adb4e8f6c40f",
   "metadata": {},
   "outputs": [
    {
     "name": "stdout",
     "output_type": "stream",
     "text": [
      "Wall time: 18.5 s\n"
     ]
    }
   ],
   "source": [
    "%%time\n",
    "list_Vds = [-5, 0, 5]\n",
    "list_vsoma, list_vdend, list_ICa = [], [], []\n",
    "list_Evar = []\n",
    "for amp_dc in list_Vds:\n",
    "    dt       = 0.025\n",
    "    DEL, DUR = 510, 150-10\n",
    "    tstop    = DEL + DUR + 0\n",
    "    tvar     = np.arange(0, tstop, dt)\n",
    "    # electric field\n",
    "    AMP_AC, FREQ = 0., 10\n",
    "    AMP_DC       = amp_dc\n",
    "    Evar_DEL     = np.zeros_like(np.arange(0, DEL, dt))\n",
    "    Evar_DUR     = AMP_DC + AMP_AC*np.sin(2*np.pi*FREQ*np.arange(0, DUR, dt)/1000)\n",
    "    Evar_tstop   = np.zeros_like(np.arange(0, tstop - DEL - DUR, dt))\n",
    "    Evar         = np.hstack((Evar_DEL, Evar_DUR, Evar_tstop))\n",
    "    list_Evar.append(Evar)\n",
    "    # synaptic input\n",
    "    Iepsp     = - generate_epsp_like_current(taur=0.8, taud=4, imax=1.6, onset=530, dt=dt, tstop=tstop)\n",
    "    tvar_hoc  = h.Vector().from_python(tvar)\n",
    "    Iepsp_hoc = h.Vector().from_python(Iepsp)\n",
    "    Iepsp_hoc.play(apicalIClamp._ref_amp, tvar_hoc, True)   \n",
    "    somaIClamp.delay  = 0.\n",
    "    somaIClamp.dur    = 1e9\n",
    "    somaIClamp.amp    = 0.\n",
    "    # run simulation\n",
    "    cell.run_simulation_EFtest(Evar=Evar, tvar=tvar, dt=dt, duration=tstop, theta=90, phi=90)\n",
    "    idx1 = 25\n",
    "    idx2 = int(tstop/dt)\n",
    "    t      = cell.recordings['t'].to_python()[idx1:idx2]\n",
    "    vsoma  = cell.recordings['somaA(0.5)'].to_python()[idx1:idx2]\n",
    "    vdend  = cell.recordings['dendA1_0000000000001(1.0)'].to_python()[idx1:idx2]\n",
    "    Id     = cell.recordings['apicalIClamp_Iepsp'].to_python()[idx1:idx2]\n",
    "    Is     = cell.recordings['apicalIClamp_Isoma'].to_python()[idx1:idx2]\n",
    "    t, vsoma, vdend = np.array(t), np.array(vsoma), np.array(vdend)\n",
    "    Id, Is, ICa     = np.array(Id), np.array(Is), np.array(ICa)\n",
    "    list_vsoma.append(vsoma)\n",
    "    list_vdend.append(vdend)\n",
    "    list_ICa.append(ICa)\n",
    "parent_dir = os.path.abspath(os.path.join(os.getcwd(), os.pardir))\n",
    "data_dir = os.path.join(parent_dir, 'data')\n",
    "# save data\n",
    "np.savez(os.path.join(data_dir, 'Schaefer_vsvd_E5mVmm_tde20ms.npz'), t=t, vsoma=list_vsoma, vdend=list_vdend, Iepsp=Id, Evar=list_Evar, tvar=tvar)"
   ]
  },
  {
   "cell_type": "code",
   "execution_count": 15,
   "id": "84f70611-74ad-4857-9b56-2025869d5f2d",
   "metadata": {},
   "outputs": [
    {
     "data": {
      "text/plain": [
       "Text(0.5, 0, 'Time (ms)')"
      ]
     },
     "execution_count": 15,
     "metadata": {},
     "output_type": "execute_result"
    },
    {
     "data": {
      "image/png": "[encoded data removed]",
      "text/plain": [
       "<Figure size 360x216 with 1 Axes>"
      ]
     },
     "metadata": {
      "needs_background": "light"
     },
     "output_type": "display_data"
    }
   ],
   "source": [
    "colorLength = 3\n",
    "list_color0 = plt.get_cmap('bwr', lut=colorLength)  # seismic, cool\n",
    "colors = [list_color0(i) for i in range(colorLength)]\n",
    "\n",
    "fig, ax = plt.subplots(1, 1, figsize=(5, 3))\n",
    "for i in range(colorLength): \n",
    "    ax.plot(t, list_vsoma[i], color=colors[i], label='Vds=%.1f mV' % list_Vds[i])\n",
    "    ax.plot(t, list_vdend[i], color=colors[i], ls='--')\n",
    "ax.plot(t, list_vsoma[int(colorLength/2)], color='k')\n",
    "ax.plot(t, list_vdend[int(colorLength/2)], color='k')\n",
    "ax.set_xlim(525, 600)\n",
    "ax.axis('off')\n",
    "ax.legend(fontsize=10)\n",
    "\n",
    "ax.set_ylabel('Voltages (mV)', fontsize=12)\n",
    "ax.set_xlabel('Time (ms)', fontsize=12)"
   ]
  },
  {
   "cell_type": "markdown",
   "id": "4d519a3a-78ac-4c31-9cb2-c07c642ad75e",
   "metadata": {},
   "source": [
    "# 4. Figure 2(c)"
   ]
  },
  {
   "cell_type": "code",
   "execution_count": 18,
   "id": "ae3df3fc-285c-4209-a072-4d6e382a68fa",
   "metadata": {},
   "outputs": [],
   "source": [
    "dt       = 0.025\n",
    "DEL, DUR = 520, 100\n",
    "tstop    = DEL + DUR + 30\n",
    "tvar     = np.arange(0, tstop, dt)\n",
    "AMP_AC, FREQ = 0., 10\n",
    "AMP_DC       = -5\n",
    "Evar_DEL     = np.zeros_like(np.arange(0, DEL, dt))\n",
    "Evar_DUR     = AMP_DC + AMP_AC*np.sin(2*np.pi*FREQ*np.arange(0, DUR, dt)/1000)\n",
    "Evar_tstop   = np.zeros_like(np.arange(0, tstop - DEL - DUR, dt))\n",
    "Evar         = np.hstack((Evar_DEL, Evar_DUR, Evar_tstop))\n",
    "Iepsp     = - generate_epsp_like_current(taur=0.8, taud=4, imax=0.0, onset=530, dt=dt, tstop=tstop)\n",
    "tvar_hoc  = h.Vector().from_python(tvar)\n",
    "Iepsp_hoc = h.Vector().from_python(Iepsp)\n",
    "Iepsp_hoc.play(apicalIClamp._ref_amp, tvar_hoc, True)   \n",
    "somaIClamp.delay  = 0.\n",
    "somaIClamp.dur    = 1e9\n",
    "somaIClamp.amp    = 0.\n",
    "cell.run_simulation_EFtest(Evar=Evar, tvar=tvar, dt=dt, duration=tstop, theta=90, phi=90)\n",
    "idx1 = 25\n",
    "idx2 = int(tstop/dt)\n",
    "t      = cell.recordings['t'].to_python()[idx1:idx2]\n",
    "vsoma  = cell.recordings['somaA(0.5)'].to_python()[idx1:idx2]\n",
    "vdend  = cell.recordings['dendA1_0000000000001(1.0)'].to_python()[idx1:idx2]\n",
    "Id     = cell.recordings['apicalIClamp_Iepsp'].to_python()[idx1:idx2]\n",
    "Is     = cell.recordings['apicalIClamp_Isoma'].to_python()[idx1:idx2]\n",
    "ICa    = cell.recordings['apicalICa'].to_python()[idx1:idx2]\n",
    "t, vsoma, vdend = np.array(t), np.array(vsoma), np.array(vdend)\n",
    "Id, Is, ICa     = np.array(Id), np.array(Is), np.array(ICa)\n",
    "\n",
    "parent_dir = os.path.abspath(os.path.join(os.getcwd(), os.pardir))\n",
    "data_dir = os.path.join(parent_dir, 'data')\n",
    "np.savez(os.path.join(data_dir, 'NegtiveEF5mV_vs_vd.npz'), t=t, vsoma=vsoma, vdend=vdend, tvar=tvar, Evar=Evar)"
   ]
  },
  {
   "cell_type": "code",
   "execution_count": 19,
   "id": "2bc525c8-cb24-4ab5-a346-0ae80f1f8e6c",
   "metadata": {},
   "outputs": [
    {
     "name": "stdout",
     "output_type": "stream",
     "text": [
      "Somatic membrane polarization = 0.91\n",
      "Dendritic membrane polarization = -2.10\n"
     ]
    },
    {
     "data": {
      "text/plain": [
       "(np.float64(500.0),\n",
       " np.float64(650.0),\n",
       " np.float64(-3.355445169551735),\n",
       " np.float64(4.464348560586436))"
      ]
     },
     "execution_count": 19,
     "metadata": {},
     "output_type": "execute_result"
    },
    {
     "data": {
      "image/png": "[encoded data removed]",
      "text/plain": [
       "<Figure size 288x216 with 1 Axes>"
      ]
     },
     "metadata": {
      "needs_background": "light"
     },
     "output_type": "display_data"
    }
   ],
   "source": [
    "print('Somatic membrane polarization = %.2f' % (vsoma[4000]-vsoma[0]))\n",
    "print('Dendritic membrane polarization = %.2f' % (vdend[4000]-vdend[0]))\n",
    "fig, ax = plt.subplots(1,1, figsize=(4, 3))\n",
    "ax.plot(t, vsoma-vsoma[0], 'b')\n",
    "ax.plot(t, vdend-vdend[0] + 4, 'r')\n",
    "# ax.axvline(t[4000])\n",
    "ax.plot(tvar, Evar/5-2, 'k')\n",
    "ax.set_xlim(500, tstop)\n",
    "ax.axis('off')"
   ]
  },
  {
   "cell_type": "code",
   "execution_count": 20,
   "id": "c89a642e-89f0-46f2-80c6-ce6199f00e01",
   "metadata": {},
   "outputs": [],
   "source": [
    "dt       = 0.025\n",
    "DEL, DUR = 520, 100\n",
    "tstop    = DEL + DUR + 30\n",
    "tvar     = np.arange(0, tstop, dt)\n",
    "AMP_AC, FREQ = 0., 10\n",
    "AMP_DC       = 5\n",
    "Evar_DEL     = np.zeros_like(np.arange(0, DEL, dt))\n",
    "Evar_DUR     = AMP_DC + AMP_AC*np.sin(2*np.pi*FREQ*np.arange(0, DUR, dt)/1000)\n",
    "Evar_tstop   = np.zeros_like(np.arange(0, tstop - DEL - DUR, dt))\n",
    "Evar         = np.hstack((Evar_DEL, Evar_DUR, Evar_tstop))\n",
    "Iepsp     = - generate_epsp_like_current(taur=0.8, taud=4, imax=0.0, onset=530, dt=dt, tstop=tstop)\n",
    "tvar_hoc  = h.Vector().from_python(tvar)\n",
    "Iepsp_hoc = h.Vector().from_python(Iepsp)\n",
    "Iepsp_hoc.play(apicalIClamp._ref_amp, tvar_hoc, True)   \n",
    "somaIClamp.delay  = 0.\n",
    "somaIClamp.dur    = 1e9\n",
    "somaIClamp.amp    = 0.\n",
    "cell.run_simulation_EFtest(Evar=Evar, tvar=tvar, dt=dt, duration=tstop, theta=90, phi=90)\n",
    "idx1 = 25\n",
    "idx2 = int(tstop/dt)\n",
    "t      = cell.recordings['t'].to_python()[idx1:idx2]\n",
    "vsoma  = cell.recordings['somaA(0.5)'].to_python()[idx1:idx2]\n",
    "vdend  = cell.recordings['dendA1_0000000000001(1.0)'].to_python()[idx1:idx2]\n",
    "Id     = cell.recordings['apicalIClamp_Iepsp'].to_python()[idx1:idx2]\n",
    "Is     = cell.recordings['apicalIClamp_Isoma'].to_python()[idx1:idx2]\n",
    "ICa    = cell.recordings['apicalICa'].to_python()[idx1:idx2]\n",
    "t, vsoma, vdend = np.array(t), np.array(vsoma), np.array(vdend)\n",
    "Id, Is, ICa     = np.array(Id), np.array(Is), np.array(ICa)\n",
    "\n",
    "parent_dir = os.path.abspath(os.path.join(os.getcwd(), os.pardir))\n",
    "data_dir = os.path.join(parent_dir, 'data')\n",
    "np.savez(os.path.join(data_dir, 'PositiveEF5mV_vs_vd.npz'), t=t, vsoma=vsoma, vdend=vdend, tvar=tvar, Evar=Evar)"
   ]
  },
  {
   "cell_type": "code",
   "execution_count": 21,
   "id": "df6bf1b0-9038-4a8b-9931-abc8086f6421",
   "metadata": {},
   "outputs": [
    {
     "name": "stdout",
     "output_type": "stream",
     "text": [
      "Somatic membrane polarization = -0.97\n",
      "Dendritic membrane polarization = 2.00\n"
     ]
    },
    {
     "data": {
      "text/plain": [
       "(np.float64(500.0),\n",
       " np.float64(650.0),\n",
       " np.float64(-3.3572355172079553),\n",
       " np.float64(4.501945861367064))"
      ]
     },
     "execution_count": 21,
     "metadata": {},
     "output_type": "execute_result"
    },
    {
     "data": {
      "image/png": "[encoded data removed]",
      "text/plain": [
       "<Figure size 288x216 with 1 Axes>"
      ]
     },
     "metadata": {
      "needs_background": "light"
     },
     "output_type": "display_data"
    }
   ],
   "source": [
    "print('Somatic membrane polarization = %.2f' % (vsoma[4000]-vsoma[0]))\n",
    "print('Dendritic membrane polarization = %.2f' % (vdend[4000]-vdend[0]))\n",
    "fig, ax = plt.subplots(1,1, figsize=(4, 3))\n",
    "ax.plot(t, vsoma-vsoma[0], 'b')\n",
    "ax.plot(t, vdend-vdend[0] + 2, 'r')\n",
    "# ax.axvline(t[4000])\n",
    "ax.plot(tvar, Evar/5-3, 'k')\n",
    "ax.set_xlim(500, tstop)\n",
    "ax.axis('off')"
   ]
  },
  {
   "cell_type": "markdown",
   "id": "ac86c7d9-d7fa-47a1-90f7-4ab17b425f72",
   "metadata": {},
   "source": [
    "# 5. Figure 5(b) inset"
   ]
  },
  {
   "cell_type": "code",
   "execution_count": 22,
   "id": "df9abc72-758f-4f55-947d-0424050d5d61",
   "metadata": {},
   "outputs": [],
   "source": [
    "dt = 0.025\n",
    "DEL, DUR = 200, 115\n",
    "tstop = DEL + DUR + 0\n",
    "tvar = np.arange(0, tstop, dt)\n",
    "\n",
    "AMP_AC, FREQ = 0., 10\n",
    "AMP_DC = 1\n",
    "Evar_DEL = np.zeros_like(np.arange(0, DEL, dt))\n",
    "Evar_DUR = AMP_DC + AMP_AC * np.sin(2 * np.pi * FREQ * np.arange(0, DUR, dt) / 1000)\n",
    "Evar_tstop = np.zeros_like(np.arange(0, tstop - DEL - DUR, dt))\n",
    "Evar = np.hstack((Evar_DEL, Evar_DUR, Evar_tstop))\n",
    "\n",
    "Iepsp = - generate_epsp_like_current(taur=0.8, taud=4, imax=1, onset=250, dt=dt, tstop=tstop)\n",
    "parent_dir = os.path.abspath(os.path.join(os.getcwd(), os.pardir))\n",
    "data_dir = os.path.join(parent_dir, 'data')\n",
    "np.savez(os.path.join(data_dir, 'delta_tDE_schematic.npz'), tvar=tvar, Evar=Evar, Iepsp=Iepsp)"
   ]
  },
  {
   "cell_type": "code",
   "execution_count": 23,
   "id": "9fa31085-38f4-407c-8cb2-674f1eca9afd",
   "metadata": {},
   "outputs": [
    {
     "data": {
      "text/plain": [
       "<matplotlib.lines.Line2D at 0x21785638c10>"
      ]
     },
     "execution_count": 23,
     "metadata": {},
     "output_type": "execute_result"
    },
    {
     "data": {
      "image/png": "[encoded data removed]",
      "text/plain": [
       "<Figure size 216x129.6 with 1 Axes>"
      ]
     },
     "metadata": {
      "needs_background": "light"
     },
     "output_type": "display_data"
    }
   ],
   "source": [
    "fig, ax = plt.subplots(1, 1, figsize=(2*1.5, 1.2*1.5))\n",
    "ax.plot(tvar, Evar, color='k', lw=2)\n",
    "ax.plot(tvar, Iepsp+1.5, color='r', lw=2)\n",
    "ax.set_xlim(150, tstop)\n",
    "ax.set_ylim(-0.2, 2.7)\n",
    "ax.axis('off')\n",
    "ax.axvline(DEL, color='grey', ls='--')\n",
    "ax.axvline(DEL+30, color='grey', ls='--')"
   ]
  },
  {
   "cell_type": "markdown",
   "id": "6780ed76-2d2f-439b-984f-841d3b35cd41",
   "metadata": {},
   "source": [
    "# 6. Figure 6(b): polarization"
   ]
  },
  {
   "cell_type": "code",
   "execution_count": 24,
   "id": "2e5efb04-bf9c-40b8-8e23-c0abf6797c70",
   "metadata": {},
   "outputs": [
    {
     "name": "stdout",
     "output_type": "stream",
     "text": [
      "Wall time: 2min 57s\n"
     ]
    }
   ],
   "source": [
    "%%time\n",
    "listEfieldDirection = np.arange(-90, 270+1, 15.0)\n",
    "polarization_soma = np.zeros_like(listEfieldDirection)\n",
    "polarization_dend = np.zeros_like(listEfieldDirection)\n",
    "for i in range(len(listEfieldDirection)):\n",
    "    dt       = 0.025\n",
    "    DEL, DUR = 520, 150\n",
    "    tstop    = DEL + DUR\n",
    "    tvar     = np.arange(0, tstop, dt)\n",
    "\n",
    "    AMP_AC, FREQ = 0., 10\n",
    "    AMP_DC       = 2.5\n",
    "    Evar_DEL     = np.zeros_like(np.arange(0, DEL, dt))\n",
    "    Evar_DUR     = AMP_DC + AMP_AC*np.sin(2*np.pi*FREQ*np.arange(0, DUR, dt)/1000)\n",
    "    Evar_tstop   = np.zeros_like(np.arange(0, tstop - DEL - DUR, dt))\n",
    "    Evar         = np.hstack((Evar_DEL, Evar_DUR, Evar_tstop))\n",
    "\n",
    "    Iepsp     = - generate_epsp_like_current(taur=0.8, taud=4, imax=0.0, onset=530, dt=dt, tstop=tstop)\n",
    "    tvar_hoc  = h.Vector().from_python(tvar)\n",
    "    Iepsp_hoc = h.Vector().from_python(Iepsp)\n",
    "    Iepsp_hoc.play(apicalIClamp._ref_amp, tvar_hoc, True)   \n",
    "    somaIClamp.delay  = 0.\n",
    "    somaIClamp.dur    = 1e9\n",
    "    somaIClamp.amp    = 0.\n",
    "\n",
    "    cell.run_simulation_EFtest(Evar=Evar, tvar=tvar, dt=dt, duration=tstop, theta=listEfieldDirection[i], phi=90)\n",
    "    idx1 = 25\n",
    "    idx2 = int(tstop/dt)\n",
    "    t      = cell.recordings['t'].to_python()[idx1:idx2]\n",
    "    vsoma  = cell.recordings['somaA(0.5)'].to_python()[idx1:idx2]\n",
    "    vdend  = cell.recordings['dendA1_0000000000001(1.0)'].to_python()[idx1:idx2]\n",
    "    Id     = cell.recordings['apicalIClamp_Iepsp'].to_python()[idx1:idx2]\n",
    "    Is     = cell.recordings['apicalIClamp_Isoma'].to_python()[idx1:idx2]\n",
    "    ICa    = cell.recordings['apicalICa'].to_python()[idx1:idx2]\n",
    "\n",
    "    t, vsoma, vdend = np.array(t), np.array(vsoma), np.array(vdend)\n",
    "    Id, Is, ICa     = np.array(Id), np.array(Is), np.array(ICa)\n",
    "\n",
    "    polarization_soma[i] = vsoma[-1] - vsoma[0]\n",
    "    polarization_dend[i] = vdend[-1] - vdend[0]\n",
    "parent_dir = os.path.abspath(os.path.join(os.getcwd(), os.pardir))\n",
    "data_dir = os.path.join(parent_dir, 'data')\n",
    "np.savez(os.path.join(data_dir, 'polarizaiton_E2.5mV_soma_and_dend.npz'), polarization_soma=polarization_soma, polarization_dend=polarization_dend, listEfieldDirection=listEfieldDirection)"
   ]
  },
  {
   "cell_type": "code",
   "execution_count": null,
   "id": "7a39e361-16d1-4d07-99c3-90632b901999",
   "metadata": {},
   "outputs": [],
   "source": []
  }
 ],
 "metadata": {
  "kernelspec": {
   "display_name": "Python 3 (ipykernel)",
   "language": "python",
   "name": "python3"
  },
  "language_info": {
   "codemirror_mode": {
    "name": "ipython",
    "version": 3
   },
   "file_extension": ".py",
   "mimetype": "text/x-python",
   "name": "python",
   "nbconvert_exporter": "python",
   "pygments_lexer": "ipython3",
   "version": "3.9.12"
  }
 },
 "nbformat": 4,
 "nbformat_minor": 5
}
